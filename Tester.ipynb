{
 "cells": [
  {
   "cell_type": "code",
   "execution_count": 30,
   "metadata": {},
   "outputs": [
    {
     "ename": "ImportError",
     "evalue": "cannot import name 'NeuralNetwork' from 'src.neural_network' (c:\\Users\\karlr\\OneDrive\\Desktop\\stuff\\programmering\\Projekter\\neural_network_python\\src\\neural_network.py)",
     "output_type": "error",
     "traceback": [
      "\u001b[1;31m---------------------------------------------------------------------------\u001b[0m",
      "\u001b[1;31mImportError\u001b[0m                               Traceback (most recent call last)",
      "\u001b[1;32mc:\\Users\\karlr\\OneDrive\\Desktop\\stuff\\programmering\\Projekter\\neural_network_python\\Tester.ipynb Cell 1\u001b[0m in \u001b[0;36m<module>\u001b[1;34m\u001b[0m\n\u001b[0;32m      <a href='vscode-notebook-cell:/c%3A/Users/karlr/OneDrive/Desktop/stuff/programmering/Projekter/neural_network_python/Tester.ipynb#W0sZmlsZQ%3D%3D?line=0'>1</a>\u001b[0m \u001b[39mimport\u001b[39;00m \u001b[39mnumpy\u001b[39;00m \u001b[39mas\u001b[39;00m \u001b[39mnp\u001b[39;00m\n\u001b[1;32m----> <a href='vscode-notebook-cell:/c%3A/Users/karlr/OneDrive/Desktop/stuff/programmering/Projekter/neural_network_python/Tester.ipynb#W0sZmlsZQ%3D%3D?line=1'>2</a>\u001b[0m \u001b[39mfrom\u001b[39;00m \u001b[39msrc\u001b[39;00m\u001b[39m.\u001b[39;00m\u001b[39mneural_network\u001b[39;00m \u001b[39mimport\u001b[39;00m NeuralNetwork\n",
      "\u001b[1;31mImportError\u001b[0m: cannot import name 'NeuralNetwork' from 'src.neural_network' (c:\\Users\\karlr\\OneDrive\\Desktop\\stuff\\programmering\\Projekter\\neural_network_python\\src\\neural_network.py)"
     ]
    }
   ],
   "source": [
    "import numpy as np\n",
    "from src.neural_network import NeuralNetwork"
   ]
  },
  {
   "cell_type": "code",
   "execution_count": 12,
   "metadata": {},
   "outputs": [],
   "source": [
    "data = np.loadtxt('src\\MNIST-5-6-Subset\\MNIST-5-6-Subset.txt')\n",
    "labels = np.loadtxt('src\\MNIST-5-6-Subset\\MNIST-5-6-Subset-Labels.txt')"
   ]
  },
  {
   "cell_type": "code",
   "execution_count": 28,
   "metadata": {},
   "outputs": [
    {
     "ename": "NameError",
     "evalue": "name 'NeuralNetwork' is not defined",
     "output_type": "error",
     "traceback": [
      "\u001b[1;31m---------------------------------------------------------------------------\u001b[0m",
      "\u001b[1;31mNameError\u001b[0m                                 Traceback (most recent call last)",
      "\u001b[1;32mc:\\Users\\karlr\\OneDrive\\Desktop\\stuff\\programmering\\Projekter\\neural_network_python\\Tester.ipynb Cell 3\u001b[0m in \u001b[0;36m<module>\u001b[1;34m\u001b[0m\n\u001b[1;32m----> <a href='vscode-notebook-cell:/c%3A/Users/karlr/OneDrive/Desktop/stuff/programmering/Projekter/neural_network_python/Tester.ipynb#W2sZmlsZQ%3D%3D?line=0'>1</a>\u001b[0m model \u001b[39m=\u001b[39m NeuralNetwork()\n\u001b[0;32m      <a href='vscode-notebook-cell:/c%3A/Users/karlr/OneDrive/Desktop/stuff/programmering/Projekter/neural_network_python/Tester.ipynb#W2sZmlsZQ%3D%3D?line=1'>2</a>\u001b[0m model\u001b[39m.\u001b[39madd_layer(\u001b[39m10\u001b[39m)\n\u001b[0;32m      <a href='vscode-notebook-cell:/c%3A/Users/karlr/OneDrive/Desktop/stuff/programmering/Projekter/neural_network_python/Tester.ipynb#W2sZmlsZQ%3D%3D?line=2'>3</a>\u001b[0m model\u001b[39m.\u001b[39mshow_structur()\n",
      "\u001b[1;31mNameError\u001b[0m: name 'NeuralNetwork' is not defined"
     ]
    }
   ],
   "source": [
    "model = \n",
    "model.add_layer(10)\n",
    "model.show_structur()"
   ]
  }
 ],
 "metadata": {
  "kernelspec": {
   "display_name": "Python 3",
   "language": "python",
   "name": "python3"
  },
  "language_info": {
   "codemirror_mode": {
    "name": "ipython",
    "version": 3
   },
   "file_extension": ".py",
   "mimetype": "text/x-python",
   "name": "python",
   "nbconvert_exporter": "python",
   "pygments_lexer": "ipython3",
   "version": "3.10.10"
  },
  "orig_nbformat": 4,
  "vscode": {
   "interpreter": {
    "hash": "6b5e362b5f7ee49bff4fb308421a50ae6fda0d5598e6c4fd8bf8d5694dfb6956"
   }
  }
 },
 "nbformat": 4,
 "nbformat_minor": 2
}
